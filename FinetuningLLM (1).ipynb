{
  "nbformat": 4,
  "nbformat_minor": 0,
  "metadata": {
    "colab": {
      "provenance": [],
      "gpuType": "T4"
    },
    "kernelspec": {
      "name": "python3",
      "display_name": "Python 3"
    },
    "language_info": {
      "name": "python"
    },
    "widgets": {
      "application/vnd.jupyter.widget-state+json": {
        "26ee35749f0849f4b3cd3149a605ef28": {
          "model_module": "@jupyter-widgets/controls",
          "model_name": "HBoxModel",
          "model_module_version": "1.5.0",
          "state": {
            "_dom_classes": [],
            "_model_module": "@jupyter-widgets/controls",
            "_model_module_version": "1.5.0",
            "_model_name": "HBoxModel",
            "_view_count": null,
            "_view_module": "@jupyter-widgets/controls",
            "_view_module_version": "1.5.0",
            "_view_name": "HBoxView",
            "box_style": "",
            "children": [
              "IPY_MODEL_9c4398a2b6cd44229308d084fa1d4599",
              "IPY_MODEL_c43d8b9b4a114b2c97f06ed1aa63a5ed",
              "IPY_MODEL_2a72eefe9b054326a2ac945542864b4b"
            ],
            "layout": "IPY_MODEL_85f066199a7e4c2984dea79072146317"
          }
        },
        "9c4398a2b6cd44229308d084fa1d4599": {
          "model_module": "@jupyter-widgets/controls",
          "model_name": "HTMLModel",
          "model_module_version": "1.5.0",
          "state": {
            "_dom_classes": [],
            "_model_module": "@jupyter-widgets/controls",
            "_model_module_version": "1.5.0",
            "_model_name": "HTMLModel",
            "_view_count": null,
            "_view_module": "@jupyter-widgets/controls",
            "_view_module_version": "1.5.0",
            "_view_name": "HTMLView",
            "description": "",
            "description_tooltip": null,
            "layout": "IPY_MODEL_afe9446a1ae949ff990244ff2d2e6468",
            "placeholder": "​",
            "style": "IPY_MODEL_c2121e96430c4d1a920bf3d998f93bba",
            "value": "Map: 100%"
          }
        },
        "c43d8b9b4a114b2c97f06ed1aa63a5ed": {
          "model_module": "@jupyter-widgets/controls",
          "model_name": "FloatProgressModel",
          "model_module_version": "1.5.0",
          "state": {
            "_dom_classes": [],
            "_model_module": "@jupyter-widgets/controls",
            "_model_module_version": "1.5.0",
            "_model_name": "FloatProgressModel",
            "_view_count": null,
            "_view_module": "@jupyter-widgets/controls",
            "_view_module_version": "1.5.0",
            "_view_name": "ProgressView",
            "bar_style": "success",
            "description": "",
            "description_tooltip": null,
            "layout": "IPY_MODEL_d69fd429a0254fcc8fc60378c160e074",
            "max": 1500,
            "min": 0,
            "orientation": "horizontal",
            "style": "IPY_MODEL_b0b361b8a350458d9676894ae88a7f3c",
            "value": 1500
          }
        },
        "2a72eefe9b054326a2ac945542864b4b": {
          "model_module": "@jupyter-widgets/controls",
          "model_name": "HTMLModel",
          "model_module_version": "1.5.0",
          "state": {
            "_dom_classes": [],
            "_model_module": "@jupyter-widgets/controls",
            "_model_module_version": "1.5.0",
            "_model_name": "HTMLModel",
            "_view_count": null,
            "_view_module": "@jupyter-widgets/controls",
            "_view_module_version": "1.5.0",
            "_view_name": "HTMLView",
            "description": "",
            "description_tooltip": null,
            "layout": "IPY_MODEL_59e15387df2b44f7bb0a78074b673a5a",
            "placeholder": "​",
            "style": "IPY_MODEL_63d55f707b964e17b73ae8a47e9e1071",
            "value": " 1500/1500 [00:02&lt;00:00, 622.42 examples/s]"
          }
        },
        "85f066199a7e4c2984dea79072146317": {
          "model_module": "@jupyter-widgets/base",
          "model_name": "LayoutModel",
          "model_module_version": "1.2.0",
          "state": {
            "_model_module": "@jupyter-widgets/base",
            "_model_module_version": "1.2.0",
            "_model_name": "LayoutModel",
            "_view_count": null,
            "_view_module": "@jupyter-widgets/base",
            "_view_module_version": "1.2.0",
            "_view_name": "LayoutView",
            "align_content": null,
            "align_items": null,
            "align_self": null,
            "border": null,
            "bottom": null,
            "display": null,
            "flex": null,
            "flex_flow": null,
            "grid_area": null,
            "grid_auto_columns": null,
            "grid_auto_flow": null,
            "grid_auto_rows": null,
            "grid_column": null,
            "grid_gap": null,
            "grid_row": null,
            "grid_template_areas": null,
            "grid_template_columns": null,
            "grid_template_rows": null,
            "height": null,
            "justify_content": null,
            "justify_items": null,
            "left": null,
            "margin": null,
            "max_height": null,
            "max_width": null,
            "min_height": null,
            "min_width": null,
            "object_fit": null,
            "object_position": null,
            "order": null,
            "overflow": null,
            "overflow_x": null,
            "overflow_y": null,
            "padding": null,
            "right": null,
            "top": null,
            "visibility": null,
            "width": null
          }
        },
        "afe9446a1ae949ff990244ff2d2e6468": {
          "model_module": "@jupyter-widgets/base",
          "model_name": "LayoutModel",
          "model_module_version": "1.2.0",
          "state": {
            "_model_module": "@jupyter-widgets/base",
            "_model_module_version": "1.2.0",
            "_model_name": "LayoutModel",
            "_view_count": null,
            "_view_module": "@jupyter-widgets/base",
            "_view_module_version": "1.2.0",
            "_view_name": "LayoutView",
            "align_content": null,
            "align_items": null,
            "align_self": null,
            "border": null,
            "bottom": null,
            "display": null,
            "flex": null,
            "flex_flow": null,
            "grid_area": null,
            "grid_auto_columns": null,
            "grid_auto_flow": null,
            "grid_auto_rows": null,
            "grid_column": null,
            "grid_gap": null,
            "grid_row": null,
            "grid_template_areas": null,
            "grid_template_columns": null,
            "grid_template_rows": null,
            "height": null,
            "justify_content": null,
            "justify_items": null,
            "left": null,
            "margin": null,
            "max_height": null,
            "max_width": null,
            "min_height": null,
            "min_width": null,
            "object_fit": null,
            "object_position": null,
            "order": null,
            "overflow": null,
            "overflow_x": null,
            "overflow_y": null,
            "padding": null,
            "right": null,
            "top": null,
            "visibility": null,
            "width": null
          }
        },
        "c2121e96430c4d1a920bf3d998f93bba": {
          "model_module": "@jupyter-widgets/controls",
          "model_name": "DescriptionStyleModel",
          "model_module_version": "1.5.0",
          "state": {
            "_model_module": "@jupyter-widgets/controls",
            "_model_module_version": "1.5.0",
            "_model_name": "DescriptionStyleModel",
            "_view_count": null,
            "_view_module": "@jupyter-widgets/base",
            "_view_module_version": "1.2.0",
            "_view_name": "StyleView",
            "description_width": ""
          }
        },
        "d69fd429a0254fcc8fc60378c160e074": {
          "model_module": "@jupyter-widgets/base",
          "model_name": "LayoutModel",
          "model_module_version": "1.2.0",
          "state": {
            "_model_module": "@jupyter-widgets/base",
            "_model_module_version": "1.2.0",
            "_model_name": "LayoutModel",
            "_view_count": null,
            "_view_module": "@jupyter-widgets/base",
            "_view_module_version": "1.2.0",
            "_view_name": "LayoutView",
            "align_content": null,
            "align_items": null,
            "align_self": null,
            "border": null,
            "bottom": null,
            "display": null,
            "flex": null,
            "flex_flow": null,
            "grid_area": null,
            "grid_auto_columns": null,
            "grid_auto_flow": null,
            "grid_auto_rows": null,
            "grid_column": null,
            "grid_gap": null,
            "grid_row": null,
            "grid_template_areas": null,
            "grid_template_columns": null,
            "grid_template_rows": null,
            "height": null,
            "justify_content": null,
            "justify_items": null,
            "left": null,
            "margin": null,
            "max_height": null,
            "max_width": null,
            "min_height": null,
            "min_width": null,
            "object_fit": null,
            "object_position": null,
            "order": null,
            "overflow": null,
            "overflow_x": null,
            "overflow_y": null,
            "padding": null,
            "right": null,
            "top": null,
            "visibility": null,
            "width": null
          }
        },
        "b0b361b8a350458d9676894ae88a7f3c": {
          "model_module": "@jupyter-widgets/controls",
          "model_name": "ProgressStyleModel",
          "model_module_version": "1.5.0",
          "state": {
            "_model_module": "@jupyter-widgets/controls",
            "_model_module_version": "1.5.0",
            "_model_name": "ProgressStyleModel",
            "_view_count": null,
            "_view_module": "@jupyter-widgets/base",
            "_view_module_version": "1.2.0",
            "_view_name": "StyleView",
            "bar_color": null,
            "description_width": ""
          }
        },
        "59e15387df2b44f7bb0a78074b673a5a": {
          "model_module": "@jupyter-widgets/base",
          "model_name": "LayoutModel",
          "model_module_version": "1.2.0",
          "state": {
            "_model_module": "@jupyter-widgets/base",
            "_model_module_version": "1.2.0",
            "_model_name": "LayoutModel",
            "_view_count": null,
            "_view_module": "@jupyter-widgets/base",
            "_view_module_version": "1.2.0",
            "_view_name": "LayoutView",
            "align_content": null,
            "align_items": null,
            "align_self": null,
            "border": null,
            "bottom": null,
            "display": null,
            "flex": null,
            "flex_flow": null,
            "grid_area": null,
            "grid_auto_columns": null,
            "grid_auto_flow": null,
            "grid_auto_rows": null,
            "grid_column": null,
            "grid_gap": null,
            "grid_row": null,
            "grid_template_areas": null,
            "grid_template_columns": null,
            "grid_template_rows": null,
            "height": null,
            "justify_content": null,
            "justify_items": null,
            "left": null,
            "margin": null,
            "max_height": null,
            "max_width": null,
            "min_height": null,
            "min_width": null,
            "object_fit": null,
            "object_position": null,
            "order": null,
            "overflow": null,
            "overflow_x": null,
            "overflow_y": null,
            "padding": null,
            "right": null,
            "top": null,
            "visibility": null,
            "width": null
          }
        },
        "63d55f707b964e17b73ae8a47e9e1071": {
          "model_module": "@jupyter-widgets/controls",
          "model_name": "DescriptionStyleModel",
          "model_module_version": "1.5.0",
          "state": {
            "_model_module": "@jupyter-widgets/controls",
            "_model_module_version": "1.5.0",
            "_model_name": "DescriptionStyleModel",
            "_view_count": null,
            "_view_module": "@jupyter-widgets/base",
            "_view_module_version": "1.2.0",
            "_view_name": "StyleView",
            "description_width": ""
          }
        },
        "4790c0b50f0a415990245649cb563355": {
          "model_module": "@jupyter-widgets/controls",
          "model_name": "HBoxModel",
          "model_module_version": "1.5.0",
          "state": {
            "_dom_classes": [],
            "_model_module": "@jupyter-widgets/controls",
            "_model_module_version": "1.5.0",
            "_model_name": "HBoxModel",
            "_view_count": null,
            "_view_module": "@jupyter-widgets/controls",
            "_view_module_version": "1.5.0",
            "_view_name": "HBoxView",
            "box_style": "",
            "children": [
              "IPY_MODEL_549476cf1b264423946795e48dd0c095",
              "IPY_MODEL_50e13c7fe9d24b5f9e70c35220415cc8",
              "IPY_MODEL_88c0e252e7a442bd8f6a992b743de3ab"
            ],
            "layout": "IPY_MODEL_8f3e4660b7bc4d8bb3c11f8ac5593acc"
          }
        },
        "549476cf1b264423946795e48dd0c095": {
          "model_module": "@jupyter-widgets/controls",
          "model_name": "HTMLModel",
          "model_module_version": "1.5.0",
          "state": {
            "_dom_classes": [],
            "_model_module": "@jupyter-widgets/controls",
            "_model_module_version": "1.5.0",
            "_model_name": "HTMLModel",
            "_view_count": null,
            "_view_module": "@jupyter-widgets/controls",
            "_view_module_version": "1.5.0",
            "_view_name": "HTMLView",
            "description": "",
            "description_tooltip": null,
            "layout": "IPY_MODEL_ab5611d269f84b2b9296f651ee79bc19",
            "placeholder": "​",
            "style": "IPY_MODEL_081719b148004e27869bea95320e01d3",
            "value": "Map: 100%"
          }
        },
        "50e13c7fe9d24b5f9e70c35220415cc8": {
          "model_module": "@jupyter-widgets/controls",
          "model_name": "FloatProgressModel",
          "model_module_version": "1.5.0",
          "state": {
            "_dom_classes": [],
            "_model_module": "@jupyter-widgets/controls",
            "_model_module_version": "1.5.0",
            "_model_name": "FloatProgressModel",
            "_view_count": null,
            "_view_module": "@jupyter-widgets/controls",
            "_view_module_version": "1.5.0",
            "_view_name": "ProgressView",
            "bar_style": "success",
            "description": "",
            "description_tooltip": null,
            "layout": "IPY_MODEL_216f7b5aed9d4e4d8d804ea00dbc6aeb",
            "max": 10000,
            "min": 0,
            "orientation": "horizontal",
            "style": "IPY_MODEL_4fb44b9a6dac4074b81affdadaef797e",
            "value": 10000
          }
        },
        "88c0e252e7a442bd8f6a992b743de3ab": {
          "model_module": "@jupyter-widgets/controls",
          "model_name": "HTMLModel",
          "model_module_version": "1.5.0",
          "state": {
            "_dom_classes": [],
            "_model_module": "@jupyter-widgets/controls",
            "_model_module_version": "1.5.0",
            "_model_name": "HTMLModel",
            "_view_count": null,
            "_view_module": "@jupyter-widgets/controls",
            "_view_module_version": "1.5.0",
            "_view_name": "HTMLView",
            "description": "",
            "description_tooltip": null,
            "layout": "IPY_MODEL_ee81b3f2906642289557b7fa71d537a6",
            "placeholder": "​",
            "style": "IPY_MODEL_d013b14f1c314b6e9258f7ead9cea2f4",
            "value": " 10000/10000 [00:16&lt;00:00, 621.68 examples/s]"
          }
        },
        "8f3e4660b7bc4d8bb3c11f8ac5593acc": {
          "model_module": "@jupyter-widgets/base",
          "model_name": "LayoutModel",
          "model_module_version": "1.2.0",
          "state": {
            "_model_module": "@jupyter-widgets/base",
            "_model_module_version": "1.2.0",
            "_model_name": "LayoutModel",
            "_view_count": null,
            "_view_module": "@jupyter-widgets/base",
            "_view_module_version": "1.2.0",
            "_view_name": "LayoutView",
            "align_content": null,
            "align_items": null,
            "align_self": null,
            "border": null,
            "bottom": null,
            "display": null,
            "flex": null,
            "flex_flow": null,
            "grid_area": null,
            "grid_auto_columns": null,
            "grid_auto_flow": null,
            "grid_auto_rows": null,
            "grid_column": null,
            "grid_gap": null,
            "grid_row": null,
            "grid_template_areas": null,
            "grid_template_columns": null,
            "grid_template_rows": null,
            "height": null,
            "justify_content": null,
            "justify_items": null,
            "left": null,
            "margin": null,
            "max_height": null,
            "max_width": null,
            "min_height": null,
            "min_width": null,
            "object_fit": null,
            "object_position": null,
            "order": null,
            "overflow": null,
            "overflow_x": null,
            "overflow_y": null,
            "padding": null,
            "right": null,
            "top": null,
            "visibility": null,
            "width": null
          }
        },
        "ab5611d269f84b2b9296f651ee79bc19": {
          "model_module": "@jupyter-widgets/base",
          "model_name": "LayoutModel",
          "model_module_version": "1.2.0",
          "state": {
            "_model_module": "@jupyter-widgets/base",
            "_model_module_version": "1.2.0",
            "_model_name": "LayoutModel",
            "_view_count": null,
            "_view_module": "@jupyter-widgets/base",
            "_view_module_version": "1.2.0",
            "_view_name": "LayoutView",
            "align_content": null,
            "align_items": null,
            "align_self": null,
            "border": null,
            "bottom": null,
            "display": null,
            "flex": null,
            "flex_flow": null,
            "grid_area": null,
            "grid_auto_columns": null,
            "grid_auto_flow": null,
            "grid_auto_rows": null,
            "grid_column": null,
            "grid_gap": null,
            "grid_row": null,
            "grid_template_areas": null,
            "grid_template_columns": null,
            "grid_template_rows": null,
            "height": null,
            "justify_content": null,
            "justify_items": null,
            "left": null,
            "margin": null,
            "max_height": null,
            "max_width": null,
            "min_height": null,
            "min_width": null,
            "object_fit": null,
            "object_position": null,
            "order": null,
            "overflow": null,
            "overflow_x": null,
            "overflow_y": null,
            "padding": null,
            "right": null,
            "top": null,
            "visibility": null,
            "width": null
          }
        },
        "081719b148004e27869bea95320e01d3": {
          "model_module": "@jupyter-widgets/controls",
          "model_name": "DescriptionStyleModel",
          "model_module_version": "1.5.0",
          "state": {
            "_model_module": "@jupyter-widgets/controls",
            "_model_module_version": "1.5.0",
            "_model_name": "DescriptionStyleModel",
            "_view_count": null,
            "_view_module": "@jupyter-widgets/base",
            "_view_module_version": "1.2.0",
            "_view_name": "StyleView",
            "description_width": ""
          }
        },
        "216f7b5aed9d4e4d8d804ea00dbc6aeb": {
          "model_module": "@jupyter-widgets/base",
          "model_name": "LayoutModel",
          "model_module_version": "1.2.0",
          "state": {
            "_model_module": "@jupyter-widgets/base",
            "_model_module_version": "1.2.0",
            "_model_name": "LayoutModel",
            "_view_count": null,
            "_view_module": "@jupyter-widgets/base",
            "_view_module_version": "1.2.0",
            "_view_name": "LayoutView",
            "align_content": null,
            "align_items": null,
            "align_self": null,
            "border": null,
            "bottom": null,
            "display": null,
            "flex": null,
            "flex_flow": null,
            "grid_area": null,
            "grid_auto_columns": null,
            "grid_auto_flow": null,
            "grid_auto_rows": null,
            "grid_column": null,
            "grid_gap": null,
            "grid_row": null,
            "grid_template_areas": null,
            "grid_template_columns": null,
            "grid_template_rows": null,
            "height": null,
            "justify_content": null,
            "justify_items": null,
            "left": null,
            "margin": null,
            "max_height": null,
            "max_width": null,
            "min_height": null,
            "min_width": null,
            "object_fit": null,
            "object_position": null,
            "order": null,
            "overflow": null,
            "overflow_x": null,
            "overflow_y": null,
            "padding": null,
            "right": null,
            "top": null,
            "visibility": null,
            "width": null
          }
        },
        "4fb44b9a6dac4074b81affdadaef797e": {
          "model_module": "@jupyter-widgets/controls",
          "model_name": "ProgressStyleModel",
          "model_module_version": "1.5.0",
          "state": {
            "_model_module": "@jupyter-widgets/controls",
            "_model_module_version": "1.5.0",
            "_model_name": "ProgressStyleModel",
            "_view_count": null,
            "_view_module": "@jupyter-widgets/base",
            "_view_module_version": "1.2.0",
            "_view_name": "StyleView",
            "bar_color": null,
            "description_width": ""
          }
        },
        "ee81b3f2906642289557b7fa71d537a6": {
          "model_module": "@jupyter-widgets/base",
          "model_name": "LayoutModel",
          "model_module_version": "1.2.0",
          "state": {
            "_model_module": "@jupyter-widgets/base",
            "_model_module_version": "1.2.0",
            "_model_name": "LayoutModel",
            "_view_count": null,
            "_view_module": "@jupyter-widgets/base",
            "_view_module_version": "1.2.0",
            "_view_name": "LayoutView",
            "align_content": null,
            "align_items": null,
            "align_self": null,
            "border": null,
            "bottom": null,
            "display": null,
            "flex": null,
            "flex_flow": null,
            "grid_area": null,
            "grid_auto_columns": null,
            "grid_auto_flow": null,
            "grid_auto_rows": null,
            "grid_column": null,
            "grid_gap": null,
            "grid_row": null,
            "grid_template_areas": null,
            "grid_template_columns": null,
            "grid_template_rows": null,
            "height": null,
            "justify_content": null,
            "justify_items": null,
            "left": null,
            "margin": null,
            "max_height": null,
            "max_width": null,
            "min_height": null,
            "min_width": null,
            "object_fit": null,
            "object_position": null,
            "order": null,
            "overflow": null,
            "overflow_x": null,
            "overflow_y": null,
            "padding": null,
            "right": null,
            "top": null,
            "visibility": null,
            "width": null
          }
        },
        "d013b14f1c314b6e9258f7ead9cea2f4": {
          "model_module": "@jupyter-widgets/controls",
          "model_name": "DescriptionStyleModel",
          "model_module_version": "1.5.0",
          "state": {
            "_model_module": "@jupyter-widgets/controls",
            "_model_module_version": "1.5.0",
            "_model_name": "DescriptionStyleModel",
            "_view_count": null,
            "_view_module": "@jupyter-widgets/base",
            "_view_module_version": "1.2.0",
            "_view_name": "StyleView",
            "description_width": ""
          }
        },
        "1abd2386a5f94ad4b4c2e216fd85c863": {
          "model_module": "@jupyter-widgets/controls",
          "model_name": "HBoxModel",
          "model_module_version": "1.5.0",
          "state": {
            "_dom_classes": [],
            "_model_module": "@jupyter-widgets/controls",
            "_model_module_version": "1.5.0",
            "_model_name": "HBoxModel",
            "_view_count": null,
            "_view_module": "@jupyter-widgets/controls",
            "_view_module_version": "1.5.0",
            "_view_name": "HBoxView",
            "box_style": "",
            "children": [
              "IPY_MODEL_3df0fe7bd91a4c21a4c88ab882bb603e",
              "IPY_MODEL_2fc819044cb842aa836008c4b8fb67ac",
              "IPY_MODEL_d1d5193018c342dbb34f8178eaaf2bdd"
            ],
            "layout": "IPY_MODEL_420e4f3278fe4fc684a9e4f98f13cf24"
          }
        },
        "3df0fe7bd91a4c21a4c88ab882bb603e": {
          "model_module": "@jupyter-widgets/controls",
          "model_name": "HTMLModel",
          "model_module_version": "1.5.0",
          "state": {
            "_dom_classes": [],
            "_model_module": "@jupyter-widgets/controls",
            "_model_module_version": "1.5.0",
            "_model_name": "HTMLModel",
            "_view_count": null,
            "_view_module": "@jupyter-widgets/controls",
            "_view_module_version": "1.5.0",
            "_view_name": "HTMLView",
            "description": "",
            "description_tooltip": null,
            "layout": "IPY_MODEL_0c68c3f2430a44bba94a112ec413e193",
            "placeholder": "​",
            "style": "IPY_MODEL_95f595c86430421b82a710cc320139d3",
            "value": "Map: 100%"
          }
        },
        "2fc819044cb842aa836008c4b8fb67ac": {
          "model_module": "@jupyter-widgets/controls",
          "model_name": "FloatProgressModel",
          "model_module_version": "1.5.0",
          "state": {
            "_dom_classes": [],
            "_model_module": "@jupyter-widgets/controls",
            "_model_module_version": "1.5.0",
            "_model_name": "FloatProgressModel",
            "_view_count": null,
            "_view_module": "@jupyter-widgets/controls",
            "_view_module_version": "1.5.0",
            "_view_name": "ProgressView",
            "bar_style": "success",
            "description": "",
            "description_tooltip": null,
            "layout": "IPY_MODEL_e89def34e0564f2292fb8df9191722cd",
            "max": 1500,
            "min": 0,
            "orientation": "horizontal",
            "style": "IPY_MODEL_88a4e3da5d574f19aa9f26bcf0f6ab6f",
            "value": 1500
          }
        },
        "d1d5193018c342dbb34f8178eaaf2bdd": {
          "model_module": "@jupyter-widgets/controls",
          "model_name": "HTMLModel",
          "model_module_version": "1.5.0",
          "state": {
            "_dom_classes": [],
            "_model_module": "@jupyter-widgets/controls",
            "_model_module_version": "1.5.0",
            "_model_name": "HTMLModel",
            "_view_count": null,
            "_view_module": "@jupyter-widgets/controls",
            "_view_module_version": "1.5.0",
            "_view_name": "HTMLView",
            "description": "",
            "description_tooltip": null,
            "layout": "IPY_MODEL_b96bff98222b44708d89c00043147318",
            "placeholder": "​",
            "style": "IPY_MODEL_415319390e7449f4b54089944f56ed62",
            "value": " 1500/1500 [00:02&lt;00:00, 652.41 examples/s]"
          }
        },
        "420e4f3278fe4fc684a9e4f98f13cf24": {
          "model_module": "@jupyter-widgets/base",
          "model_name": "LayoutModel",
          "model_module_version": "1.2.0",
          "state": {
            "_model_module": "@jupyter-widgets/base",
            "_model_module_version": "1.2.0",
            "_model_name": "LayoutModel",
            "_view_count": null,
            "_view_module": "@jupyter-widgets/base",
            "_view_module_version": "1.2.0",
            "_view_name": "LayoutView",
            "align_content": null,
            "align_items": null,
            "align_self": null,
            "border": null,
            "bottom": null,
            "display": null,
            "flex": null,
            "flex_flow": null,
            "grid_area": null,
            "grid_auto_columns": null,
            "grid_auto_flow": null,
            "grid_auto_rows": null,
            "grid_column": null,
            "grid_gap": null,
            "grid_row": null,
            "grid_template_areas": null,
            "grid_template_columns": null,
            "grid_template_rows": null,
            "height": null,
            "justify_content": null,
            "justify_items": null,
            "left": null,
            "margin": null,
            "max_height": null,
            "max_width": null,
            "min_height": null,
            "min_width": null,
            "object_fit": null,
            "object_position": null,
            "order": null,
            "overflow": null,
            "overflow_x": null,
            "overflow_y": null,
            "padding": null,
            "right": null,
            "top": null,
            "visibility": null,
            "width": null
          }
        },
        "0c68c3f2430a44bba94a112ec413e193": {
          "model_module": "@jupyter-widgets/base",
          "model_name": "LayoutModel",
          "model_module_version": "1.2.0",
          "state": {
            "_model_module": "@jupyter-widgets/base",
            "_model_module_version": "1.2.0",
            "_model_name": "LayoutModel",
            "_view_count": null,
            "_view_module": "@jupyter-widgets/base",
            "_view_module_version": "1.2.0",
            "_view_name": "LayoutView",
            "align_content": null,
            "align_items": null,
            "align_self": null,
            "border": null,
            "bottom": null,
            "display": null,
            "flex": null,
            "flex_flow": null,
            "grid_area": null,
            "grid_auto_columns": null,
            "grid_auto_flow": null,
            "grid_auto_rows": null,
            "grid_column": null,
            "grid_gap": null,
            "grid_row": null,
            "grid_template_areas": null,
            "grid_template_columns": null,
            "grid_template_rows": null,
            "height": null,
            "justify_content": null,
            "justify_items": null,
            "left": null,
            "margin": null,
            "max_height": null,
            "max_width": null,
            "min_height": null,
            "min_width": null,
            "object_fit": null,
            "object_position": null,
            "order": null,
            "overflow": null,
            "overflow_x": null,
            "overflow_y": null,
            "padding": null,
            "right": null,
            "top": null,
            "visibility": null,
            "width": null
          }
        },
        "95f595c86430421b82a710cc320139d3": {
          "model_module": "@jupyter-widgets/controls",
          "model_name": "DescriptionStyleModel",
          "model_module_version": "1.5.0",
          "state": {
            "_model_module": "@jupyter-widgets/controls",
            "_model_module_version": "1.5.0",
            "_model_name": "DescriptionStyleModel",
            "_view_count": null,
            "_view_module": "@jupyter-widgets/base",
            "_view_module_version": "1.2.0",
            "_view_name": "StyleView",
            "description_width": ""
          }
        },
        "e89def34e0564f2292fb8df9191722cd": {
          "model_module": "@jupyter-widgets/base",
          "model_name": "LayoutModel",
          "model_module_version": "1.2.0",
          "state": {
            "_model_module": "@jupyter-widgets/base",
            "_model_module_version": "1.2.0",
            "_model_name": "LayoutModel",
            "_view_count": null,
            "_view_module": "@jupyter-widgets/base",
            "_view_module_version": "1.2.0",
            "_view_name": "LayoutView",
            "align_content": null,
            "align_items": null,
            "align_self": null,
            "border": null,
            "bottom": null,
            "display": null,
            "flex": null,
            "flex_flow": null,
            "grid_area": null,
            "grid_auto_columns": null,
            "grid_auto_flow": null,
            "grid_auto_rows": null,
            "grid_column": null,
            "grid_gap": null,
            "grid_row": null,
            "grid_template_areas": null,
            "grid_template_columns": null,
            "grid_template_rows": null,
            "height": null,
            "justify_content": null,
            "justify_items": null,
            "left": null,
            "margin": null,
            "max_height": null,
            "max_width": null,
            "min_height": null,
            "min_width": null,
            "object_fit": null,
            "object_position": null,
            "order": null,
            "overflow": null,
            "overflow_x": null,
            "overflow_y": null,
            "padding": null,
            "right": null,
            "top": null,
            "visibility": null,
            "width": null
          }
        },
        "88a4e3da5d574f19aa9f26bcf0f6ab6f": {
          "model_module": "@jupyter-widgets/controls",
          "model_name": "ProgressStyleModel",
          "model_module_version": "1.5.0",
          "state": {
            "_model_module": "@jupyter-widgets/controls",
            "_model_module_version": "1.5.0",
            "_model_name": "ProgressStyleModel",
            "_view_count": null,
            "_view_module": "@jupyter-widgets/base",
            "_view_module_version": "1.2.0",
            "_view_name": "StyleView",
            "bar_color": null,
            "description_width": ""
          }
        },
        "b96bff98222b44708d89c00043147318": {
          "model_module": "@jupyter-widgets/base",
          "model_name": "LayoutModel",
          "model_module_version": "1.2.0",
          "state": {
            "_model_module": "@jupyter-widgets/base",
            "_model_module_version": "1.2.0",
            "_model_name": "LayoutModel",
            "_view_count": null,
            "_view_module": "@jupyter-widgets/base",
            "_view_module_version": "1.2.0",
            "_view_name": "LayoutView",
            "align_content": null,
            "align_items": null,
            "align_self": null,
            "border": null,
            "bottom": null,
            "display": null,
            "flex": null,
            "flex_flow": null,
            "grid_area": null,
            "grid_auto_columns": null,
            "grid_auto_flow": null,
            "grid_auto_rows": null,
            "grid_column": null,
            "grid_gap": null,
            "grid_row": null,
            "grid_template_areas": null,
            "grid_template_columns": null,
            "grid_template_rows": null,
            "height": null,
            "justify_content": null,
            "justify_items": null,
            "left": null,
            "margin": null,
            "max_height": null,
            "max_width": null,
            "min_height": null,
            "min_width": null,
            "object_fit": null,
            "object_position": null,
            "order": null,
            "overflow": null,
            "overflow_x": null,
            "overflow_y": null,
            "padding": null,
            "right": null,
            "top": null,
            "visibility": null,
            "width": null
          }
        },
        "415319390e7449f4b54089944f56ed62": {
          "model_module": "@jupyter-widgets/controls",
          "model_name": "DescriptionStyleModel",
          "model_module_version": "1.5.0",
          "state": {
            "_model_module": "@jupyter-widgets/controls",
            "_model_module_version": "1.5.0",
            "_model_name": "DescriptionStyleModel",
            "_view_count": null,
            "_view_module": "@jupyter-widgets/base",
            "_view_module_version": "1.2.0",
            "_view_name": "StyleView",
            "description_width": ""
          }
        }
      }
    },
    "accelerator": "GPU"
  },
  "cells": [
    {
      "cell_type": "markdown",
      "source": [
        "# Assignment 1000: Fine Tuning an LLM for Text Generation\n",
        "\n",
        "### Instrctor: Dr. Ankur Mali\n",
        "\n",
        "### Submission by: Abrar Zahin\n",
        "\n",
        "\n",
        "## Objective:\n",
        "The objective of this notebook is to fine tune an open source pre-trained LLM on a dataset to learn about the significance of this process. After fine tunign the model, I compare the outputs of the generated text from the pre trained model to the trained model. I also choose a model that is better suited for this task and compare both models."
      ],
      "metadata": {
        "id": "5wPcSyQ2-_FD"
      }
    },
    {
      "cell_type": "markdown",
      "source": [
        "## Methodology:\n",
        "Our procedure is divided in to these steps:\n",
        "\n",
        "\n",
        "1.   Installation\n",
        "2.   Data loading and Data Preprocessing\n",
        "3.   Training\n",
        "4.   Evaluation\n"
      ],
      "metadata": {
        "id": "Y0kS9JFO1XbZ"
      }
    },
    {
      "cell_type": "markdown",
      "source": [
        "### Installation:\n",
        "We install the required dependencies. Here, the transformers and datasets libraries are installed."
      ],
      "metadata": {
        "id": "uq619hF52WdF"
      }
    },
    {
      "cell_type": "code",
      "source": [
        "!pip install --quiet transformers datasets"
      ],
      "metadata": {
        "colab": {
          "base_uri": "https://localhost:8080/"
        },
        "id": "kOcvSS8k1wfn",
        "outputId": "23df64eb-73e0-447a-c848-cdd093f12d28"
      },
      "execution_count": 1,
      "outputs": [
        {
          "output_type": "stream",
          "name": "stdout",
          "text": [
            "\u001b[?25l   \u001b[90m━━━━━━━━━━━━━━━━━━━━━━━━━━━━━━━━━━━━━━━━\u001b[0m \u001b[32m0.0/491.2 kB\u001b[0m \u001b[31m?\u001b[0m eta \u001b[36m-:--:--\u001b[0m\r\u001b[2K   \u001b[91m━━━━━━━━━━━━━━━━━━━━━━━━━━━━━━━━━━━━━━━\u001b[0m\u001b[90m╺\u001b[0m \u001b[32m481.3/491.2 kB\u001b[0m \u001b[31m23.8 MB/s\u001b[0m eta \u001b[36m0:00:01\u001b[0m\r\u001b[2K   \u001b[90m━━━━━━━━━━━━━━━━━━━━━━━━━━━━━━━━━━━━━━━━\u001b[0m \u001b[32m491.2/491.2 kB\u001b[0m \u001b[31m9.5 MB/s\u001b[0m eta \u001b[36m0:00:00\u001b[0m\n",
            "\u001b[?25h\u001b[?25l   \u001b[90m━━━━━━━━━━━━━━━━━━━━━━━━━━━━━━━━━━━━━━━━\u001b[0m \u001b[32m0.0/116.3 kB\u001b[0m \u001b[31m?\u001b[0m eta \u001b[36m-:--:--\u001b[0m\r\u001b[2K   \u001b[90m━━━━━━━━━━━━━━━━━━━━━━━━━━━━━━━━━━━━━━━━\u001b[0m \u001b[32m116.3/116.3 kB\u001b[0m \u001b[31m7.0 MB/s\u001b[0m eta \u001b[36m0:00:00\u001b[0m\n",
            "\u001b[?25h\u001b[?25l   \u001b[90m━━━━━━━━━━━━━━━━━━━━━━━━━━━━━━━━━━━━━━━━\u001b[0m \u001b[32m0.0/183.9 kB\u001b[0m \u001b[31m?\u001b[0m eta \u001b[36m-:--:--\u001b[0m\r\u001b[2K   \u001b[90m━━━━━━━━━━━━━━━━━━━━━━━━━━━━━━━━━━━━━━━━\u001b[0m \u001b[32m183.9/183.9 kB\u001b[0m \u001b[31m9.9 MB/s\u001b[0m eta \u001b[36m0:00:00\u001b[0m\n",
            "\u001b[2K   \u001b[90m━━━━━━━━━━━━━━━━━━━━━━━━━━━━━━━━━━━━━━━━\u001b[0m \u001b[32m143.5/143.5 kB\u001b[0m \u001b[31m4.1 MB/s\u001b[0m eta \u001b[36m0:00:00\u001b[0m\n",
            "\u001b[2K   \u001b[90m━━━━━━━━━━━━━━━━━━━━━━━━━━━━━━━━━━━━━━━━\u001b[0m \u001b[32m194.8/194.8 kB\u001b[0m \u001b[31m10.3 MB/s\u001b[0m eta \u001b[36m0:00:00\u001b[0m\n",
            "\u001b[?25h\u001b[31mERROR: pip's dependency resolver does not currently take into account all the packages that are installed. This behaviour is the source of the following dependency conflicts.\n",
            "torch 2.6.0+cu124 requires nvidia-cublas-cu12==12.4.5.8; platform_system == \"Linux\" and platform_machine == \"x86_64\", but you have nvidia-cublas-cu12 12.5.3.2 which is incompatible.\n",
            "torch 2.6.0+cu124 requires nvidia-cuda-cupti-cu12==12.4.127; platform_system == \"Linux\" and platform_machine == \"x86_64\", but you have nvidia-cuda-cupti-cu12 12.5.82 which is incompatible.\n",
            "torch 2.6.0+cu124 requires nvidia-cuda-nvrtc-cu12==12.4.127; platform_system == \"Linux\" and platform_machine == \"x86_64\", but you have nvidia-cuda-nvrtc-cu12 12.5.82 which is incompatible.\n",
            "torch 2.6.0+cu124 requires nvidia-cuda-runtime-cu12==12.4.127; platform_system == \"Linux\" and platform_machine == \"x86_64\", but you have nvidia-cuda-runtime-cu12 12.5.82 which is incompatible.\n",
            "torch 2.6.0+cu124 requires nvidia-cudnn-cu12==9.1.0.70; platform_system == \"Linux\" and platform_machine == \"x86_64\", but you have nvidia-cudnn-cu12 9.3.0.75 which is incompatible.\n",
            "torch 2.6.0+cu124 requires nvidia-cufft-cu12==11.2.1.3; platform_system == \"Linux\" and platform_machine == \"x86_64\", but you have nvidia-cufft-cu12 11.2.3.61 which is incompatible.\n",
            "torch 2.6.0+cu124 requires nvidia-curand-cu12==10.3.5.147; platform_system == \"Linux\" and platform_machine == \"x86_64\", but you have nvidia-curand-cu12 10.3.6.82 which is incompatible.\n",
            "torch 2.6.0+cu124 requires nvidia-cusolver-cu12==11.6.1.9; platform_system == \"Linux\" and platform_machine == \"x86_64\", but you have nvidia-cusolver-cu12 11.6.3.83 which is incompatible.\n",
            "torch 2.6.0+cu124 requires nvidia-cusparse-cu12==12.3.1.170; platform_system == \"Linux\" and platform_machine == \"x86_64\", but you have nvidia-cusparse-cu12 12.5.1.3 which is incompatible.\n",
            "torch 2.6.0+cu124 requires nvidia-nvjitlink-cu12==12.4.127; platform_system == \"Linux\" and platform_machine == \"x86_64\", but you have nvidia-nvjitlink-cu12 12.5.82 which is incompatible.\n",
            "gcsfs 2025.3.2 requires fsspec==2025.3.2, but you have fsspec 2024.12.0 which is incompatible.\u001b[0m\u001b[31m\n",
            "\u001b[0m"
          ]
        }
      ]
    },
    {
      "cell_type": "markdown",
      "source": [
        "### Data Loading and Data preprocessing:\n",
        "In the beginning, we import pytorch and the tokenizers, models, trainer and trainer argument libraries from transformers. Load_dataset from the datasets library is used for loading our Huggingface dataset to the model.\n",
        "\n",
        "\n",
        "**Model:** For this experiment, I am using the `bart-base` model trained from facebook (Sequence to sequence). Since this model is pretrained for sequence to sequence generation, this model can be expected to work better than GPT -2 in summarizing the texts upon training with XSUM (Extreme Summarization) dataset.\n",
        "\n",
        "\n",
        "**Dataset:** The Dataset I used is called the XSum (Extreme summarization) which is usable for the a summarization task. The task is to create a one-shot one sentence summary of articles from the British Broadcasting Corporation.\n",
        "\n",
        "From the train split, we take the first 10,000 examples (documents) and from the validation split, we take the first 1500 examples.\n",
        "\n",
        "**Tokenizer:** The input tokenizer tokenizes the documents, truncating if its greater than the max length of 512 tokens and padding if shorter than the max length.\n",
        "The target tokens are of shorter length with 64 tokens.\n",
        "\n",
        "A PyTorch tensor is returned by the tokenizer."
      ],
      "metadata": {
        "id": "Ru0YzZHq2lRO"
      }
    },
    {
      "cell_type": "markdown",
      "source": [
        "### BART-base model from facebook:"
      ],
      "metadata": {
        "id": "WaHTv9q1t-1Q"
      }
    },
    {
      "cell_type": "code",
      "execution_count": 22,
      "metadata": {
        "colab": {
          "base_uri": "https://localhost:8080/",
          "height": 49,
          "referenced_widgets": [
            "26ee35749f0849f4b3cd3149a605ef28",
            "9c4398a2b6cd44229308d084fa1d4599",
            "c43d8b9b4a114b2c97f06ed1aa63a5ed",
            "2a72eefe9b054326a2ac945542864b4b",
            "85f066199a7e4c2984dea79072146317",
            "afe9446a1ae949ff990244ff2d2e6468",
            "c2121e96430c4d1a920bf3d998f93bba",
            "d69fd429a0254fcc8fc60378c160e074",
            "b0b361b8a350458d9676894ae88a7f3c",
            "59e15387df2b44f7bb0a78074b673a5a",
            "63d55f707b964e17b73ae8a47e9e1071"
          ]
        },
        "outputId": "34a24bfb-7e79-4a53-b030-9f5bb46cca1c",
        "id": "-YJYI1jOt9eT"
      },
      "outputs": [
        {
          "output_type": "display_data",
          "data": {
            "text/plain": [
              "Map:   0%|          | 0/1500 [00:00<?, ? examples/s]"
            ],
            "application/vnd.jupyter.widget-view+json": {
              "version_major": 2,
              "version_minor": 0,
              "model_id": "26ee35749f0849f4b3cd3149a605ef28"
            }
          },
          "metadata": {}
        }
      ],
      "source": [
        "\n",
        "import torch\n",
        "from transformers import AutoTokenizer, AutoModelForSeq2SeqLM, Trainer, TrainingArguments\n",
        "from datasets import load_dataset\n",
        "\n",
        "model_name = \"facebook/bart-base\"\n",
        "tokenizer = AutoTokenizer.from_pretrained(model_name)             #Tokenizer of the facebook/bert/base model\n",
        "model = AutoModelForSeq2SeqLM.from_pretrained(model_name)\n",
        "\n",
        "dataset = load_dataset(\"xsum\")               #Loading dataset using the dataset framework\n",
        "trust_remote_code = True\n",
        "\n",
        "train_data = dataset[\"train\"].select(range(10000))      #train_data derived by splitting the dataset\n",
        "val_data = dataset[\"validation\"].select(range(1500))     #Val_data is validation data derived by splitting the dataset\n",
        "\n",
        "\n",
        "def tokenize_function(example):\n",
        "    tokenizer.pad_token = tokenizer.eos_token       #Padding token\n",
        "\n",
        "\n",
        "    input = tokenizer(\n",
        "        example[\"document\"],       #Documents are tokenized as inputs\n",
        "        truncation=True,           #Document truncated if longer than max length\n",
        "        padding=\"max_length\",   #Padding added for same length\n",
        "        max_length=512,  # longer since articles are larger\n",
        "        return_tensors=\"pt\"        #returned as pytorch tensors\n",
        "    )\n",
        "\n",
        "\n",
        "    with tokenizer.as_target_tokenizer():\n",
        "        target = tokenizer(\n",
        "            example[\"summary\"],       #Summary is tokenized as targets\n",
        "            truncation=True,\n",
        "            padding=\"max_length\",\n",
        "            max_length=64,  # summaries are short\n",
        "            return_tensors=\"pt\"\n",
        "        )\n",
        "\n",
        "    input[\"labels\"] = target[\"input_ids\"]        #targets are passed in with labels\n",
        "    return input\n",
        "\n",
        "model.resize_token_embeddings(len(tokenizer))              #embeddings resized due to adding padding token\n",
        "tokenized_train = train_data.map(tokenize_function, batched=True)   #map the tokenizer function to each example in the dataset\n",
        "tokenized_val = val_data.map(tokenize_function, batched=True)\n",
        "\n",
        "tokenized_train.set_format(\"torch\", columns=[\"input_ids\", \"attention_mask\", \"labels\"])   # In the pytorch tensors, only important columns are passed\n",
        "tokenized_val.set_format(\"torch\", columns=[\"input_ids\", \"attention_mask\", \"labels\"])"
      ]
    },
    {
      "cell_type": "markdown",
      "source": [
        "### Pre training:\n",
        "Before training, the model generates the following for a given prompt:"
      ],
      "metadata": {
        "id": "fFqnnVXkujum"
      }
    },
    {
      "cell_type": "code",
      "source": [
        "prompt = \"India has launched a rocket it hopes will allow it to join an elite group of space explorers to Mars; the country's space research organisation (Isro) said the unmanned Mangalyann, or Mars craft, was successfully placed into orbit; the spacecraft is set to travel for 300 days before reaching Mars and embarking on experiments; if successful, India will become the fourth space agency to reach the Red Planet after the US, Russia, and Europe; the total cost of the mission is put at about $75m (£45m), making it the cheapest Mars mission to date; it aims to study the Martian atmosphere and search for signs of life, among other objectives; the spacecraft will also test out technologies needed for a future interplanetary mission; the launch took place from the Sriharikota spaceport on the east coast of India\"\n",
        "input_ids = tokenizer(prompt, return_tensors=\"pt\").input_ids.cuda()\n",
        "\n",
        "model.to(torch.device(\"cuda\"))\n",
        "\n",
        "\n",
        "output = model.generate(input_ids, max_new_tokens=64, num_beams=5, no_repeat_ngram_size=2, early_stopping=True)\n",
        "response = tokenizer.decode(output[0], skip_special_tokens=True)\n",
        "print(f'Prompt: {prompt}\\nResponse: {response}')"
      ],
      "metadata": {
        "colab": {
          "base_uri": "https://localhost:8080/"
        },
        "outputId": "07a67565-57a3-4d5a-da11-36e1aaf3f083",
        "id": "YaZHp-2nurbe"
      },
      "execution_count": 23,
      "outputs": [
        {
          "output_type": "stream",
          "name": "stdout",
          "text": [
            "Prompt: India has launched a rocket it hopes will allow it to join an elite group of space explorers to Mars; the country's space research organisation (Isro) said the unmanned Mangalyann, or Mars craft, was successfully placed into orbit; the spacecraft is set to travel for 300 days before reaching Mars and embarking on experiments; if successful, India will become the fourth space agency to reach the Red Planet after the US, Russia, and Europe; the total cost of the mission is put at about $75m (£45m), making it the cheapest Mars mission to date; it aims to study the Martian atmosphere and search for signs of life, among other objectives; the spacecraft will also test out technologies needed for a future interplanetary mission; the launch took place from the Sriharikota spaceport on the east coast of India\n",
            "Response: India has launched a rocket it hopes will allow it to join an elite group of space explorers to Mars; the country's space research organisation (Isro) said the unmanned Mangalyann, or Mars craft, was successfully placed into orbit; The spacecraft is set to travel for 300 days before reaching Mars and embark\n"
          ]
        }
      ]
    },
    {
      "cell_type": "markdown",
      "source": [
        "Prior to training, it only echoes the first few words of the prompt before stopping abruptly. Now we will see how the model trained on xsum database behaves."
      ],
      "metadata": {
        "id": "LRQ_Gv_lvcEv"
      }
    },
    {
      "cell_type": "markdown",
      "source": [
        "### Training\n",
        "\n",
        "We use the Trainer API to train the model on the provided dataset.\n",
        "\n",
        "We specify the training arguments before training the model. The model is trained on only 1 epoch, with a batch size of 1. The model is evaluated every 100 steps and logged and saved every 500 steps."
      ],
      "metadata": {
        "id": "QBmrzDn-tmZR"
      }
    },
    {
      "cell_type": "code",
      "source": [
        "training_args = TrainingArguments(\n",
        "    output_dir=\"./finetuned_bertbasexsum\",\n",
        "    eval_strategy=\"steps\",       #Evaluated per 100 steps instead of an entire epoch\n",
        "    num_train_epochs=1,            #Only one epoch due to GPU memory and usage limitations\n",
        "    per_device_train_batch_size=1,    #Batch size reduced for memory and usage limitations\n",
        "    per_device_eval_batch_size=1,\n",
        "    gradient_accumulation_steps = 4,          #gradient accumulation to replicate 4 times the batch size\n",
        "    save_steps=500,\n",
        "    logging_strategy=\"steps\",         # logged every 100 steps\n",
        "    logging_steps=100,\n",
        "    #load_best_model_at_end=True,\n",
        ")\n",
        "\n",
        "trainer = Trainer(\n",
        "    model=model,\n",
        "    args=training_args,\n",
        "    train_dataset=tokenized_train,\n",
        "    eval_dataset=tokenized_val,\n",
        ")\n",
        "\n",
        "trainer.train()"
      ],
      "metadata": {
        "id": "zz60dsNlrVIw",
        "colab": {
          "base_uri": "https://localhost:8080/",
          "height": 966
        },
        "outputId": "ffb7d545-9b5d-4cd2-ccc9-e8a3e4ed2228"
      },
      "execution_count": 24,
      "outputs": [
        {
          "output_type": "display_data",
          "data": {
            "text/plain": [
              "<IPython.core.display.HTML object>"
            ],
            "text/html": [
              "\n",
              "    <div>\n",
              "      \n",
              "      <progress value='2500' max='2500' style='width:300px; height:20px; vertical-align: middle;'></progress>\n",
              "      [2500/2500 35:29, Epoch 1/1]\n",
              "    </div>\n",
              "    <table border=\"1\" class=\"dataframe\">\n",
              "  <thead>\n",
              " <tr style=\"text-align: left;\">\n",
              "      <th>Step</th>\n",
              "      <th>Training Loss</th>\n",
              "      <th>Validation Loss</th>\n",
              "    </tr>\n",
              "  </thead>\n",
              "  <tbody>\n",
              "    <tr>\n",
              "      <td>100</td>\n",
              "      <td>1.232500</td>\n",
              "      <td>0.969194</td>\n",
              "    </tr>\n",
              "    <tr>\n",
              "      <td>200</td>\n",
              "      <td>1.149800</td>\n",
              "      <td>0.976996</td>\n",
              "    </tr>\n",
              "    <tr>\n",
              "      <td>300</td>\n",
              "      <td>1.156300</td>\n",
              "      <td>0.965399</td>\n",
              "    </tr>\n",
              "    <tr>\n",
              "      <td>400</td>\n",
              "      <td>1.085500</td>\n",
              "      <td>0.960681</td>\n",
              "    </tr>\n",
              "    <tr>\n",
              "      <td>500</td>\n",
              "      <td>1.116600</td>\n",
              "      <td>0.954467</td>\n",
              "    </tr>\n",
              "    <tr>\n",
              "      <td>600</td>\n",
              "      <td>1.097900</td>\n",
              "      <td>0.945125</td>\n",
              "    </tr>\n",
              "    <tr>\n",
              "      <td>700</td>\n",
              "      <td>1.091800</td>\n",
              "      <td>0.949772</td>\n",
              "    </tr>\n",
              "    <tr>\n",
              "      <td>800</td>\n",
              "      <td>1.121500</td>\n",
              "      <td>0.941494</td>\n",
              "    </tr>\n",
              "    <tr>\n",
              "      <td>900</td>\n",
              "      <td>1.107100</td>\n",
              "      <td>0.932550</td>\n",
              "    </tr>\n",
              "    <tr>\n",
              "      <td>1000</td>\n",
              "      <td>1.093400</td>\n",
              "      <td>0.929081</td>\n",
              "    </tr>\n",
              "    <tr>\n",
              "      <td>1100</td>\n",
              "      <td>1.039600</td>\n",
              "      <td>0.925313</td>\n",
              "    </tr>\n",
              "    <tr>\n",
              "      <td>1200</td>\n",
              "      <td>1.067700</td>\n",
              "      <td>0.919354</td>\n",
              "    </tr>\n",
              "    <tr>\n",
              "      <td>1300</td>\n",
              "      <td>1.071900</td>\n",
              "      <td>0.916018</td>\n",
              "    </tr>\n",
              "    <tr>\n",
              "      <td>1400</td>\n",
              "      <td>1.113900</td>\n",
              "      <td>0.911800</td>\n",
              "    </tr>\n",
              "    <tr>\n",
              "      <td>1500</td>\n",
              "      <td>1.076900</td>\n",
              "      <td>0.908329</td>\n",
              "    </tr>\n",
              "    <tr>\n",
              "      <td>1600</td>\n",
              "      <td>1.034400</td>\n",
              "      <td>0.908436</td>\n",
              "    </tr>\n",
              "    <tr>\n",
              "      <td>1700</td>\n",
              "      <td>1.043900</td>\n",
              "      <td>0.902329</td>\n",
              "    </tr>\n",
              "    <tr>\n",
              "      <td>1800</td>\n",
              "      <td>1.017200</td>\n",
              "      <td>0.897781</td>\n",
              "    </tr>\n",
              "    <tr>\n",
              "      <td>1900</td>\n",
              "      <td>1.056100</td>\n",
              "      <td>0.895509</td>\n",
              "    </tr>\n",
              "    <tr>\n",
              "      <td>2000</td>\n",
              "      <td>1.035500</td>\n",
              "      <td>0.889608</td>\n",
              "    </tr>\n",
              "    <tr>\n",
              "      <td>2100</td>\n",
              "      <td>0.991600</td>\n",
              "      <td>0.889342</td>\n",
              "    </tr>\n",
              "    <tr>\n",
              "      <td>2200</td>\n",
              "      <td>1.027100</td>\n",
              "      <td>0.888033</td>\n",
              "    </tr>\n",
              "    <tr>\n",
              "      <td>2300</td>\n",
              "      <td>1.014400</td>\n",
              "      <td>0.886629</td>\n",
              "    </tr>\n",
              "    <tr>\n",
              "      <td>2400</td>\n",
              "      <td>0.998200</td>\n",
              "      <td>0.884109</td>\n",
              "    </tr>\n",
              "    <tr>\n",
              "      <td>2500</td>\n",
              "      <td>1.009800</td>\n",
              "      <td>0.882902</td>\n",
              "    </tr>\n",
              "  </tbody>\n",
              "</table><p>"
            ]
          },
          "metadata": {}
        },
        {
          "output_type": "stream",
          "name": "stderr",
          "text": [
            "/usr/local/lib/python3.11/dist-packages/transformers/modeling_utils.py:3339: UserWarning: Moving the following attributes in the config to the generation config: {'early_stopping': True, 'num_beams': 4, 'no_repeat_ngram_size': 3, 'forced_bos_token_id': 0}. You are seeing this warning because you've set generation parameters in the model config, as opposed to in the generation config.\n",
            "  warnings.warn(\n"
          ]
        },
        {
          "output_type": "execute_result",
          "data": {
            "text/plain": [
              "TrainOutput(global_step=2500, training_loss=1.0740334228515624, metrics={'train_runtime': 2130.481, 'train_samples_per_second': 4.694, 'train_steps_per_second': 1.173, 'total_flos': 3048682291200000.0, 'train_loss': 1.0740334228515624, 'epoch': 1.0})"
            ]
          },
          "metadata": {},
          "execution_count": 24
        }
      ]
    },
    {
      "cell_type": "markdown",
      "source": [
        "After Training, the model generates the following summary."
      ],
      "metadata": {
        "id": "D_DpF5-06LPN"
      }
    },
    {
      "cell_type": "code",
      "source": [
        "prompt = \"India has launched a rocket it hopes will allow it to join an elite group of space explorers to Mars; the country's space research organisation (Isro) said the unmanned Mangalyann, or Mars craft, was successfully placed into orbit; the spacecraft is set to travel for 300 days before reaching Mars and embarking on experiments; if successful, India will become the fourth space agency to reach the Red Planet after the US, Russia, and Europe; the total cost of the mission is put at about $75m (£45m), making it the cheapest Mars mission to date; it aims to study the Martian atmosphere and search for signs of life, among other objectives; the spacecraft will also test out technologies needed for a future interplanetary mission; the launch took place from the Sriharikota spaceport on the east coast of India\"\n",
        "input_ids = tokenizer(prompt, return_tensors=\"pt\").input_ids.cuda()\n",
        "\n",
        "model.to(torch.device(\"cuda\"))\n",
        "\n",
        "\n",
        "output = model.generate(input_ids, max_new_tokens=64, num_beams=5, no_repeat_ngram_size=2, early_stopping=True)\n",
        "response = tokenizer.decode(output[0], skip_special_tokens=True)\n",
        "print(f'Prompt: {prompt}\\nResponse: {response}')"
      ],
      "metadata": {
        "colab": {
          "base_uri": "https://localhost:8080/"
        },
        "outputId": "f12c6554-c438-4400-ef2f-798ecae9259a",
        "id": "wf4rvYvA6MG6"
      },
      "execution_count": 25,
      "outputs": [
        {
          "output_type": "stream",
          "name": "stdout",
          "text": [
            "Prompt: India has launched a rocket it hopes will allow it to join an elite group of space explorers to Mars; the country's space research organisation (Isro) said the unmanned Mangalyann, or Mars craft, was successfully placed into orbit; the spacecraft is set to travel for 300 days before reaching Mars and embarking on experiments; if successful, India will become the fourth space agency to reach the Red Planet after the US, Russia, and Europe; the total cost of the mission is put at about $75m (£45m), making it the cheapest Mars mission to date; it aims to study the Martian atmosphere and search for signs of life, among other objectives; the spacecraft will also test out technologies needed for a future interplanetary mission; the launch took place from the Sriharikota spaceport on the east coast of India\n",
            "Response: India's space agency has successfully launched a spacecraft into orbit over the Red Planet.\n"
          ]
        }
      ]
    },
    {
      "cell_type": "markdown",
      "source": [
        "I also attempted to work with the Distilled GPT-2 model. The pre-trained model generated the following items."
      ],
      "metadata": {
        "id": "8-es1iEoRiMz"
      }
    },
    {
      "cell_type": "markdown",
      "source": [
        "### Distil GPT-2:"
      ],
      "metadata": {
        "id": "v8PkQdqFsmpl"
      }
    },
    {
      "cell_type": "code",
      "execution_count": 14,
      "metadata": {
        "colab": {
          "base_uri": "https://localhost:8080/",
          "height": 136,
          "referenced_widgets": [
            "4790c0b50f0a415990245649cb563355",
            "549476cf1b264423946795e48dd0c095",
            "50e13c7fe9d24b5f9e70c35220415cc8",
            "88c0e252e7a442bd8f6a992b743de3ab",
            "8f3e4660b7bc4d8bb3c11f8ac5593acc",
            "ab5611d269f84b2b9296f651ee79bc19",
            "081719b148004e27869bea95320e01d3",
            "216f7b5aed9d4e4d8d804ea00dbc6aeb",
            "4fb44b9a6dac4074b81affdadaef797e",
            "ee81b3f2906642289557b7fa71d537a6",
            "d013b14f1c314b6e9258f7ead9cea2f4",
            "1abd2386a5f94ad4b4c2e216fd85c863",
            "3df0fe7bd91a4c21a4c88ab882bb603e",
            "2fc819044cb842aa836008c4b8fb67ac",
            "d1d5193018c342dbb34f8178eaaf2bdd",
            "420e4f3278fe4fc684a9e4f98f13cf24",
            "0c68c3f2430a44bba94a112ec413e193",
            "95f595c86430421b82a710cc320139d3",
            "e89def34e0564f2292fb8df9191722cd",
            "88a4e3da5d574f19aa9f26bcf0f6ab6f",
            "b96bff98222b44708d89c00043147318",
            "415319390e7449f4b54089944f56ed62"
          ]
        },
        "id": "PV1Wkj5a7JcK",
        "outputId": "21e54601-2d2b-4f37-df95-d3495918d4ce"
      },
      "outputs": [
        {
          "output_type": "display_data",
          "data": {
            "text/plain": [
              "Map:   0%|          | 0/10000 [00:00<?, ? examples/s]"
            ],
            "application/vnd.jupyter.widget-view+json": {
              "version_major": 2,
              "version_minor": 0,
              "model_id": "4790c0b50f0a415990245649cb563355"
            }
          },
          "metadata": {}
        },
        {
          "output_type": "stream",
          "name": "stderr",
          "text": [
            "/usr/local/lib/python3.11/dist-packages/transformers/tokenization_utils_base.py:3980: UserWarning: `as_target_tokenizer` is deprecated and will be removed in v5 of Transformers. You can tokenize your labels by using the argument `text_target` of the regular `__call__` method (either in the same call as your input texts if you use the same keyword arguments, or in a separate call.\n",
            "  warnings.warn(\n"
          ]
        },
        {
          "output_type": "display_data",
          "data": {
            "text/plain": [
              "Map:   0%|          | 0/1500 [00:00<?, ? examples/s]"
            ],
            "application/vnd.jupyter.widget-view+json": {
              "version_major": 2,
              "version_minor": 0,
              "model_id": "1abd2386a5f94ad4b4c2e216fd85c863"
            }
          },
          "metadata": {}
        }
      ],
      "source": [
        "\n",
        "import torch\n",
        "from transformers import AutoTokenizer, AutoModelForCausalLM, Trainer, TrainingArguments\n",
        "from datasets import load_dataset\n",
        "\n",
        "model_name = \"distilgpt2\"\n",
        "tokenizer = AutoTokenizer.from_pretrained(model_name)\n",
        "model = AutoModelForCausalLM.from_pretrained(model_name)\n",
        "\n",
        "dataset = load_dataset(\"xsum\")\n",
        "trust_remote_code = True\n",
        "\n",
        "train_data = dataset[\"train\"].select(range(10000))      #train_data derived by splitting the dataset\n",
        "val_data = dataset[\"validation\"].select(range(1500))     #Val_data is validation data derived by splitting the dataset\n",
        "\n",
        "\n",
        "def tokenize_function(example):\n",
        "    tokenizer.pad_token = tokenizer.eos_token\n",
        "\n",
        "\n",
        "    input = tokenizer(\n",
        "        example[\"document\"],\n",
        "        truncation=True,\n",
        "        padding=\"max_length\",\n",
        "        max_length=512,  # longer since articles are larger\n",
        "        return_tensors=\"pt\"\n",
        "    )\n",
        "\n",
        "\n",
        "    with tokenizer.as_target_tokenizer():\n",
        "        target = tokenizer(\n",
        "            example[\"summary\"],\n",
        "            truncation=True,\n",
        "            padding=\"max_length\",\n",
        "            max_length=64,  # summaries are short\n",
        "            return_tensors=\"pt\"\n",
        "        )\n",
        "\n",
        "    input[\"labels\"] = target[\"input_ids\"]\n",
        "    return input\n",
        "\n",
        "model.resize_token_embeddings(len(tokenizer))\n",
        "tokenized_train = train_data.map(tokenize_function, batched=True)   #map the tokenizer function to each example in the dataset\n",
        "tokenized_val = val_data.map(tokenize_function, batched=True)\n",
        "# Remove columns other than input_ids/attention_mask\n",
        "tokenized_train.set_format(\"torch\", columns=[\"input_ids\", \"attention_mask\", \"labels\"])\n",
        "tokenized_val.set_format(\"torch\", columns=[\"input_ids\", \"attention_mask\", \"labels\"])"
      ]
    },
    {
      "cell_type": "code",
      "source": [
        "prompt = \"India has launched a rocket it hopes will allow it to join an elite group of space explorers to Mars; the country's space research organisation (Isro) said the unmanned Mangalyann, or Mars craft, was successfully placed into orbit; the spacecraft is set to travel for 300 days before reaching Mars and embarking on experiments; if successful, India will become the fourth space agency to reach the Red Planet after the US, Russia, and Europe; the total cost of the mission is put at about $75m (£45m), making it the cheapest Mars mission to date; it aims to study the Martian atmosphere and search for signs of life, among other objectives; the spacecraft will also test out technologies needed for a future interplanetary mission; the launch took place from the Sriharikota spaceport on the east coast of India\"\n",
        "input_ids = tokenizer(prompt, return_tensors=\"pt\").input_ids.cuda()\n",
        "\n",
        "model.to(torch.device(\"cuda\"))\n",
        "\n",
        "\n",
        "output = model.generate(input_ids, max_new_tokens=64, num_beams=5, no_repeat_ngram_size=2, early_stopping=True)\n",
        "response = tokenizer.decode(output[0], skip_special_tokens=True)\n",
        "print(f'Prompt: {prompt}\\nResponse: {response}')"
      ],
      "metadata": {
        "id": "1sb50M8wbBQw",
        "colab": {
          "base_uri": "https://localhost:8080/"
        },
        "outputId": "f716685f-0506-484f-e1c5-38048074d1bc"
      },
      "execution_count": 18,
      "outputs": [
        {
          "output_type": "stream",
          "name": "stderr",
          "text": [
            "The attention mask and the pad token id were not set. As a consequence, you may observe unexpected behavior. Please pass your input's `attention_mask` to obtain reliable results.\n",
            "Setting `pad_token_id` to `eos_token_id`:50256 for open-end generation.\n"
          ]
        },
        {
          "output_type": "stream",
          "name": "stdout",
          "text": [
            "Prompt: India has launched a rocket it hopes will allow it to join an elite group of space explorers to Mars; the country's space research organisation (Isro) said the unmanned Mangalyann, or Mars craft, was successfully placed into orbit; the spacecraft is set to travel for 300 days before reaching Mars and embarking on experiments; if successful, India will become the fourth space agency to reach the Red Planet after the US, Russia, and Europe; the total cost of the mission is put at about $75m (£45m), making it the cheapest Mars mission to date; it aims to study the Martian atmosphere and search for signs of life, among other objectives; the spacecraft will also test out technologies needed for a future interplanetary mission; the launch took place from the Sriharikota spaceport on the east coast of India\n",
            "Response: India has launched a rocket it hopes will allow it to join an elite group of space explorers to Mars; the country's space research organisation (Isro) said the unmanned Mangalyann, or Mars craft, was successfully placed into orbit; the spacecraft is set to travel for 300 days before reaching Mars and embarking on experiments; if successful, India will become the fourth space agency to reach the Red Planet after the US, Russia, and Europe; the total cost of the mission is put at about $75m (£45m), making it the cheapest Mars mission to date; it aims to study the Martian atmosphere and search for signs of life, among other objectives; the spacecraft will also test out technologies needed for a future interplanetary mission; the launch took place from the Sriharikota spaceport on the east coast of India; and it is expected to be completed by the end of this year.\n"
          ]
        }
      ]
    },
    {
      "cell_type": "markdown",
      "source": [
        "Since the GPT-2 model is a decoder only model trained for text generation, it extended the prompt instead of summarizing it. Although it performed well in generating the text, it failed to summarize the document given."
      ],
      "metadata": {
        "id": "jiXVA3tQz12J"
      }
    },
    {
      "cell_type": "markdown",
      "source": [
        "# Challenges\n",
        "\n",
        "I faced three main challanges while conducting the training. One of them was **running out of GPU memory**. While training the model, to decrease the loss, I aimed to train the model on 3 epochs. The GPU almost ran out of memory.\n",
        "To mitigate these issues-\n",
        "\n",
        "*   Reduced batch_size\n",
        "*   Used a small part of the dataset as epoch\n",
        "*   Used gradient accumulation\n",
        "\n",
        "Due to gradient accumulation, the batch_size is simulated to a size 4 times larger. This is because the gradient is accumulated before updating the weights before each batch.\n",
        "\n",
        "Another issue I faced during training the model was **finding the right model** for the Extreme Summarizing problem. In the beginning, I started the experiment with the model 'distilgpt-2' which is the distilled version of GPT-2. Since it is a text generation model, I decided to choose another model used more commonly for summarizing documents.\n",
        "\n",
        "Another issue was the **GPU usage limitations** in Colab. Due to the limitations, I could not run more prompt tests to make more inferences."
      ],
      "metadata": {
        "id": "iGzs_M3BlXXt"
      }
    },
    {
      "cell_type": "markdown",
      "source": [
        "# Inference:\n",
        "\n",
        "For this experiment, I tested a Large Language Model on summarizing large documents in to one sentence summaries.\n",
        "\n",
        "The BERT-base model from facebook is a model that was pre-trained for summarizations. After pre-processing and loading the dataset, I tested the pre-trained model.\n",
        "\n",
        "The pre-trained model, when given a prompt, did not attempt to summarize it and only copied the generated data. Since it is a **general purpose** model, it generated a text based on the patterns it learned from the pre-training.\n",
        "\n",
        "### After Training:\n",
        "After training it on our dataset, it was found that the model behaved as expected, returning a satisfying summary of the given documents.Compared to the pre-trained model, the trained model performed much better.\n",
        "\n",
        "The features of the generated summary are as follows-\n",
        "* Mars is referred to as the red planet. One pattern that the model may have learned from the dataset is **generalization** of words and **Paraphrasing**.\n",
        "\n",
        "* The summary is a broad generalization and does not contain any specific details.\n",
        "* There were no words or phrases that indicate that the model may have hallucinated.\n",
        "\n",
        "### During training:\n",
        "\n",
        "From the training data, we can conclude that the training was satisfying. Despite having minor fluctuations, the valuation loss ultimately decreases down to 0.88 from 0.97. The training loss decreases from 1.11 to 1.07 which shows that the model has learned gradually.\n",
        "\n",
        "There were no signs of overfitting as the loss ultimately did not increase.\n",
        "\n",
        "\n",
        "### distilled GPT -2\n",
        "\n",
        "I also trained the distilled GPT -2 model on the `xsum` dataset. Since it is a Casual LLM, It is not a summarization model and is pre trained to generate text. After training, the text is generated was the copy of the document along with an extended generated text.\n",
        "\n",
        "The BART base model is a sequence to sequence pre-trained model, which is why it could capture the Extreme summarizing task better.\n",
        "\n",
        "I  would like to dive deeper into this experiment by testing with more complex prompts and comparing it with other models such as RNNs, and CNNs."
      ],
      "metadata": {
        "id": "w1xgWbwfR85t"
      }
    }
  ]
}